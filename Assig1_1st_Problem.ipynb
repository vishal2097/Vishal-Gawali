{
 "cells": [
  {
   "cell_type": "markdown",
   "metadata": {},
   "source": []
  },
  {
   "cell_type": "markdown",
   "metadata": {},
   "source": [
    "Name- Vishal Manoharrao Gawali\n",
    "Reg No- 20MAI0049"
   ]
  },
  {
   "cell_type": "markdown",
   "metadata": {},
   "source": [
    "# Implement single layer perceptron"
   ]
  },
  {
   "cell_type": "code",
   "execution_count": 2,
   "metadata": {
    "colab": {
     "base_uri": "https://localhost:8080/"
    },
    "id": "RzRnpZ73v9RV",
    "outputId": "ce228a7c-b14b-4851-86f7-7b5f371adf52"
   },
   "outputs": [
    {
     "name": "stdout",
     "output_type": "stream",
     "text": [
      "Training:\n",
      "Weights:  [ 0.5  0.1 -0.3]\n",
      "Bias:  -0.4\n",
      "\n",
      "Testing:\n",
      "Output of Test Data:  [0]\n"
     ]
    }
   ],
   "source": [
    "import numpy as np\n",
    "\n",
    "class P:\n",
    " \n",
    "    def __init__(self, learn_rate=0.1, no_of_iteration=100):\n",
    "    \n",
    "      self.lr = learn_rate\n",
    "      self.epochs = no_of_iteration\n",
    "      self.weights = None\n",
    "      self.bias = None\n",
    "    \n",
    "    def fit(self, X, y):\n",
    "      self.weights = np.zeros(X.shape[1])\n",
    "      self.bias = 0\n",
    "\n",
    "      for epoch in range(self.epochs):\n",
    "          for i in range(X.shape[0]):\n",
    "\n",
    "              y_pred = self.activation_func(np.dot(self.weights, X[i]) + self.bias)\n",
    "\n",
    "              self.weights = self.weights + self.lr * (y[i] - y_pred)*X[i]\n",
    "              self.bias = self.bias + self.lr * (y[i] - y_pred)\n",
    "      \n",
    "      print(\"Training:\")\n",
    "      print(\"Weights: \", self.weights)\n",
    "      print(\"Bias: \", self.bias)\n",
    "\n",
    "    def activation_func(self, activation):\n",
    "        if activation>=0:\n",
    "            return 1\n",
    "        else:\n",
    "            return 0\n",
    "    \n",
    "    def predict(self, X):\n",
    "      y_pred = []\n",
    "      for i in range(X.shape[0]):\n",
    "          y_pred.append(self.activation_func(np.dot(self.weights, X[i]) + self.bias))\n",
    "\n",
    "      print(\"\\nTesting:\")\n",
    "      print(\"Output of Test Data: \", y_pred)\n",
    "\n",
    "if __name__ == '__main__':\n",
    "    X = np.array([\n",
    "        [1, 2, 3],\n",
    "        [4, 5, 6],\n",
    "        [7, 8, 9]\n",
    "    ])\n",
    "\n",
    "    y = np.array([0, 1, 1]) \n",
    "    t = np.array([[4, 7, 8]])\n",
    "\n",
    "    perceptron = P()\n",
    "    perceptron.fit(X, y)\n",
    "    perceptron.predict(t)\n"
   ]
  },
  {
   "cell_type": "code",
   "execution_count": null,
   "metadata": {},
   "outputs": [],
   "source": []
  }
 ],
 "metadata": {
  "colab": {
   "collapsed_sections": [],
   "name": "DL-A1: 1st Problem.ipynb",
   "provenance": []
  },
  "kernelspec": {
   "display_name": "Python 3",
   "language": "python",
   "name": "python3"
  },
  "language_info": {
   "codemirror_mode": {
    "name": "ipython",
    "version": 3
   },
   "file_extension": ".py",
   "mimetype": "text/x-python",
   "name": "python",
   "nbconvert_exporter": "python",
   "pygments_lexer": "ipython3",
   "version": "3.8.3"
  }
 },
 "nbformat": 4,
 "nbformat_minor": 1
}
